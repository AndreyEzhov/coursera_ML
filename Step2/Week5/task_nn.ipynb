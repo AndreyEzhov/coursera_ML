{
 "cells": [
  {
   "cell_type": "markdown",
   "metadata": {},
   "source": [
    "## Нейронные сети: зависимость ошибки и обучающей способности от числа нейронов"
   ]
  },
  {
   "cell_type": "markdown",
   "metadata": {},
   "source": [
    "В этом задании вы будете настраивать двуслойную нейронную сеть для решения задачи многоклассовой классификации. Предлагается выполнить процедуры загрузки и разбиения входных данных, обучения сети и подсчета ошибки классификации. Предлагается определить оптимальное количество нейронов в скрытом слое сети. Нужно так подобрать число нейронов, чтобы модель была с одной стороны несложной, а с другой стороны давала бы достаточно точный прогноз и не переобучалась. Цель задания -- показать, как зависит точность и обучающая способность сети от ее сложности."
   ]
  },
  {
   "cell_type": "markdown",
   "metadata": {},
   "source": [
    "Для решения задачи многоклассовой классификации предлагается воспользоваться библиотекой построения нейронных сетей [pybrain](http://pybrain.org/). Библиотека содержит основные модули инициализации двуслойной нейронной сети прямого распространения, оценки ее параметров с помощью метода обратного распространения ошибки (backpropagation) и подсчета ошибки.\n",
    "\n",
    "Установить библиотеку pybrain можно с помощью стандартной системы управления пакетами pip:\n",
    "\n",
    "```\n",
    "pip install pybrain\n",
    "```\n",
    "Кроме того, для установки библиотеки можно использовать и другие способы, приведенные в [документации](https://github.com/pybrain/pybrain/wiki/installation). "
   ]
  },
  {
   "cell_type": "markdown",
   "metadata": {},
   "source": [
    "###  Используемые данные\n",
    "\n",
    "Рассматривается задача оценки качества вина по его физико-химическим свойствам [1]. Данные размещены в [открытом доступе](https://archive.ics.uci.edu/ml/machine-learning-databases/wine-quality/winequality-red.csv) в репозитории UCI  и содержат 1599 образцов красного вина, описанных 11 признаками, среди которых -- кислотность, процентное содержание сахара, алкоголя и пр. Кроме того, каждому объекту поставлена в соответствие оценка качества по шкале от 0 до 10. Требуется восстановить оценку качества вина по исходному признаковому описанию.\n",
    "\n",
    "[1] P. Cortez, A. Cerdeira, F. Almeida, T. Matos and J. Reis. Modeling wine preferences by data mining from physicochemical properties.  In Decision Support Systems, Elsevier, 47(4):547-553, 2009. "
   ]
  },
  {
   "cell_type": "code",
   "execution_count": 6,
   "metadata": {},
   "outputs": [],
   "source": [
    "# Выполним инициализацию основных используемых модулей\n",
    "%matplotlib inline\n",
    "\n",
    "import random\n",
    "import matplotlib.pyplot as plt\n",
    "from sklearn.preprocessing import normalize\n",
    "import numpy as np"
   ]
  },
  {
   "cell_type": "markdown",
   "metadata": {},
   "source": [
    "Выполним загрузку данных"
   ]
  },
  {
   "cell_type": "code",
   "execution_count": 7,
   "metadata": {},
   "outputs": [],
   "source": [
    "with open('winequality-red.csv') as f:\n",
    "    f.readline()  # пропуск заголовочной строки\n",
    "    data = np.loadtxt(f, delimiter=';')"
   ]
  },
  {
   "cell_type": "markdown",
   "metadata": {},
   "source": [
    "В качестве альтернативного варианта, можно выполнить загрузку данных напрямую из репозитория UCI, воспользовавшись библиотекой urllib."
   ]
  },
  {
   "cell_type": "code",
   "execution_count": 8,
   "metadata": {},
   "outputs": [],
   "source": [
    "import urllib\n",
    "# URL for the Wine Quality Data Set (UCI Machine Learning Repository)\n",
    "url = \"https://archive.ics.uci.edu/ml/machine-learning-databases/wine-quality/winequality-red.csv\"\n",
    "# загрузка файла\n",
    "f = urllib.urlopen(url)\n",
    "f.readline()  # пропуск заголовочной строки\n",
    "data = np.loadtxt(f, delimiter=';')"
   ]
  },
  {
   "cell_type": "markdown",
   "metadata": {},
   "source": [
    "Выделим из данных целевую переменную. Классы в задаче являются несбалинсированными: основной доле объектов поставлена оценка качества от 5 до 7. Приведем задачу к трехклассовой: объектам с оценкой качества меньше пяти поставим оценку 5, а объектам с оценкой качества больше семи поставим 7. "
   ]
  },
  {
   "cell_type": "code",
   "execution_count": 9,
   "metadata": {},
   "outputs": [],
   "source": [
    "TRAIN_SIZE = 0.7 # Разделение данных на обучающую и контрольную части в пропорции 70/30%\n",
    "from sklearn.cross_validation import train_test_split\n",
    "\n",
    "y = data[:, -1]\n",
    "np.place(y, y < 5, 5)\n",
    "np.place(y, y > 7, 7)\n",
    "y -= min(y)\n",
    "X = data[:, :-1]\n",
    "X = normalize(X)\n",
    "\n",
    "X_train, X_test, y_train, y_test = train_test_split(X, y, train_size=TRAIN_SIZE, random_state=0)"
   ]
  },
  {
   "cell_type": "markdown",
   "metadata": {},
   "source": [
    "### Двуслойная нейронная сеть\n",
    "\n",
    "Двуслойная нейронная сеть представляет собой функцию распознавания, которая може быть записана в виде следующей суперпозиции:\n",
    "\n",
    "$f(x,W)=h^{(2)}\\left(\\sum\\limits_{i=1}^D w_i^{(2)}h^{(1)}\\left(\\sum\\limits_{j=1}^n w_{ji}^{(1)}x_j+b_i^{(1)}\\right)+b^{(2)}\\right)$, где\n",
    "\n",
    "$x$ -- исходный объект (сорт вина, описанный 11 признаками), $x_j$ -- соответствующий признак,\n",
    "\n",
    "$n$ --  количество нейронов во входном слое сети, совпадающее с количеством признаков,\n",
    "\n",
    "$D$ --  количество нейронов в скрытом слое сети,\n",
    "\n",
    "$w_i^{(2)}, w_{ji}^{(1)}, b_i^{(1)}, b^{(2)}$ --  параметры сети, соответствующие весам нейронов,\n",
    "\n",
    "$h^{(1)}, h^{(2)}$ -- функции активации.\n",
    "\n",
    "В качестве функции активации на скрытом слое сети используется линейная функция. На выходном слое сети используется функция активации softmax, являющаяся обобщением сигмоидной функции на многоклассовый случай:\n",
    "\n",
    "$y_k=\\text{softmax}_k(a_1,...,a_k)=\\frac{\\exp(a_k)}{\\sum_{k=1}^K\\exp(a_k)}.$\n",
    "\n"
   ]
  },
  {
   "cell_type": "markdown",
   "metadata": {},
   "source": [
    "### Настройка параметров сети\n",
    "\n",
    "Оптимальные параметры сети $W_{opt}$ определяются путем минимизации функции ошибки:\n",
    "\n",
    "$W_{opt}=\\arg\\min\\limits_{W}L(W)+\\lambda\\|W\\|^2$.\n",
    "\n",
    "Здесь $L(W)$ является функцией ошибки многоклассовой классификации,\n",
    "\n",
    "$L(W)=- \\sum^N_{n=1}\\sum^K_{k=1} t_{kn} log(y_{kn}),$\n",
    "\n",
    "$t_{kn}$ -- бинарно закодированные метки классов, $K$ -- количество меток, $N$ -- количество объектов,\n",
    "\n",
    "а $\\lambda\\|W\\|^2$ является регуляризующим слагаемым, контролирующим суммарный вес параметров сети и предотвращающий эффект переобучения.\n",
    "\n",
    "Оптимизация параметров выполняется методом обратного распространения ошибки (backpropagation)."
   ]
  },
  {
   "cell_type": "markdown",
   "metadata": {},
   "source": [
    "Выполним загрузку основных модулей: ClassificationDataSet -- структура данных pybrain, buildNetwork -- инициализация нейронной сети, BackpropTrainer -- оптимизация параметров сети методом backpropagation, SoftmaxLayer -- функция softmax, соответствующая выходному слою сети, percentError -- функцию подсчета ошибки классификации (доля неправильных ответов). "
   ]
  },
  {
   "cell_type": "code",
   "execution_count": 10,
   "metadata": {},
   "outputs": [],
   "source": [
    "from pybrain.datasets import ClassificationDataSet # Структура данных pybrain\n",
    "from pybrain.tools.shortcuts import buildNetwork\n",
    "from pybrain.supervised.trainers import BackpropTrainer\n",
    "from pybrain.structure.modules import SoftmaxLayer\n",
    "from pybrain.utilities import percentError"
   ]
  },
  {
   "cell_type": "markdown",
   "metadata": {},
   "source": [
    "Инициализируем основные параметры задачи: HIDDEN_NEURONS_NUM -- количество нейронов скрытого слоя, MAX_EPOCHS -- максимальное количество итераций алгоритма оптимизации"
   ]
  },
  {
   "cell_type": "code",
   "execution_count": 11,
   "metadata": {},
   "outputs": [],
   "source": [
    "# Определение основных констант\n",
    "HIDDEN_NEURONS_NUM = 100 # Количество нейронов, содержащееся в скрытом слое сети\n",
    "MAX_EPOCHS = 100 # Максимальное число итераций алгоритма оптимизации параметров сети"
   ]
  },
  {
   "cell_type": "markdown",
   "metadata": {},
   "source": [
    "Инициализируем структуру данных ClassificationDataSet, используемую библиотекой pybrain. Для инициализации структура принимает два аргумента: количество признаков *np.shape(X)[1]* и количество различных меток классов *len(np.unique(y))*.\n",
    "\n",
    "Кроме того, произведем бинаризацию целевой переменной с помощью функции *_convertToOneOfMany( )* и разбиение данных на обучающую и контрольную части."
   ]
  },
  {
   "cell_type": "code",
   "execution_count": 12,
   "metadata": {},
   "outputs": [],
   "source": [
    "# Конвертация данных в структуру ClassificationDataSet\n",
    "# Обучающая часть\n",
    "ds_train = ClassificationDataSet(np.shape(X)[1], nb_classes=len(np.unique(y_train)))\n",
    "# Первый аргумент -- количество признаков np.shape(X)[1], второй аргумент -- количество меток классов len(np.unique(y_train)))\n",
    "ds_train.setField('input', X_train) # Инициализация объектов\n",
    "ds_train.setField('target', y_train[:, np.newaxis]) # Инициализация ответов; np.newaxis создает вектор-столбец\n",
    "ds_train._convertToOneOfMany( ) # Бинаризация вектора ответов\n",
    "# Контрольная часть\n",
    "ds_test = ClassificationDataSet(np.shape(X)[1], nb_classes=len(np.unique(y_train)))\n",
    "ds_test.setField('input', X_test)\n",
    "ds_test.setField('target', y_test[:, np.newaxis])\n",
    "ds_test._convertToOneOfMany( )"
   ]
  },
  {
   "cell_type": "markdown",
   "metadata": {},
   "source": [
    "Инициализируем двуслойную сеть и произведем оптимизацию ее параметров. Аргументами для инициализации являются:\n",
    "\n",
    "ds.indim -- количество нейронов на входном слое сети, совпадает с количеством признаков (в нашем случае 11),\n",
    "\n",
    "HIDDEN_NEURONS_NUM -- количество нейронов в скрытом слое сети,\n",
    "\n",
    "ds.outdim -- количество нейронов на выходном слое сети, совпадает с количеством различных меток классов (в нашем случае 3),\n",
    "\n",
    "SoftmaxLayer -- функция softmax, используемая на выходном слое для решения задачи многоклассовой классификации."
   ]
  },
  {
   "cell_type": "code",
   "execution_count": 13,
   "metadata": {
    "scrolled": true
   },
   "outputs": [
    {
     "name": "stdout",
     "output_type": "stream",
     "text": [
      "11\n",
      "3\n",
      "(1503, array([0.87794051, 0.82407722, 0.77495989, ..., 0.50610669, 0.25595339,\n",
      "       0.41906619]))\n"
     ]
    }
   ],
   "source": [
    "np.random.seed(0) # Зафиксируем seed для получения воспроизводимого результата\n",
    "\n",
    "# Построение сети прямого распространения (Feedforward network)\n",
    "net = buildNetwork(ds_train.indim, HIDDEN_NEURONS_NUM, ds_train.outdim, outclass=SoftmaxLayer)\n",
    "# ds.indim -- количество нейронов входного слоя, равне количеству признаков\n",
    "# ds.outdim -- количество нейронов выходного слоя, равное количеству меток классов\n",
    "# SoftmaxLayer -- функция активации, пригодная для решения задачи многоклассовой классификации\n",
    "\n",
    "print(ds_train.indim)\n",
    "print(ds_train.outdim)\n",
    "\n",
    "init_params = np.random.random((len(net.params))) # Инициализируем веса сети для получения воспроизводимого результата\n",
    "print(len(init_params), init_params)\n",
    "net._setParameters(init_params)"
   ]
  },
  {
   "cell_type": "markdown",
   "metadata": {},
   "source": [
    " Выполним оптимизацию параметров сети. График ниже показывает сходимость функции ошибки на обучающей/контрольной части."
   ]
  },
  {
   "cell_type": "code",
   "execution_count": 25,
   "metadata": {},
   "outputs": [
    {
     "data": {
      "image/png": "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\n",
      "text/plain": [
       "<Figure size 432x288 with 1 Axes>"
      ]
     },
     "metadata": {},
     "output_type": "display_data"
    }
   ],
   "source": [
    "random.seed(0)\n",
    "# Модуль настройки параметров pybrain использует модуль random; зафиксируем seed для получения воспроизводимого результата\n",
    "trainer = BackpropTrainer(net, dataset=ds_train) # Инициализируем модуль оптимизации\n",
    "err_train, err_val = trainer.trainUntilConvergence(maxEpochs=MAX_EPOCHS)\n",
    "line_train = plt.plot(err_train, 'b', err_val, 'r') # Построение графика\n",
    "xlab = plt.xlabel('Iterations')\n",
    "ylab = plt.ylabel('Error')"
   ]
  },
  {
   "cell_type": "markdown",
   "metadata": {},
   "source": [
    "Рассчитаем значение доли неправильных ответов на обучающей и контрольной выборке."
   ]
  },
  {
   "cell_type": "code",
   "execution_count": 27,
   "metadata": {
    "scrolled": true
   },
   "outputs": [
    {
     "name": "stdout",
     "output_type": "stream",
     "text": [
      "Error on train:  51.29579982126899 %\n",
      "Error on test:  46.666666666666664 %\n"
     ]
    }
   ],
   "source": [
    "res_train = net.activateOnDataset(ds_train).argmax(axis=1) # Подсчет результата на обучающей выборке\n",
    "print('Error on train: ', percentError(res_train, ds_train['target'].argmax(axis=1)), '%') # Подсчет ошибки\n",
    "res_test = net.activateOnDataset(ds_test).argmax(axis=1) # Подсчет результата на тестовой выборке\n",
    "print('Error on test: ', percentError(res_test, ds_test['target'].argmax(axis=1)), '%') # Подсчет ошибки"
   ]
  },
  {
   "cell_type": "markdown",
   "metadata": {},
   "source": [
    "### Задание. Определение оптимального числа нейронов.\n",
    "В задании требуется исследовать зависимость ошибки на контрольной выборке в зависимости от числа нейронов в скрытом слое сети. Количество нейронов, по которому предполагается провести перебор, записано в векторе \n",
    "```\n",
    "hidden_neurons_num = [50, 100, 200, 500, 700, 1000]\n",
    "```\n",
    "\n",
    "1. Для фиксированного разбиения на обучающую и контрольную части подсчитайте долю неправильных ответов (ошибок) классификации на обучении/контроле в зависимости от количества нейронов в скрытом слое сети. Запишите результаты в массивы ```res_train_vec``` и ```res_test_vec```, соответственно. С помощью функции ```plot_classification_error``` постройте график зависимости ошибок на обучении/контроле от количества нейронов. Являются ли графики ошибок возрастающими/убывающими? При каком количестве нейронов достигается минимум ошибок классификации?\n",
    "\n",
    "2. С помощью функции ```write_answer_nn``` запишите в выходной файл число: количество нейронов в скрытом слое сети, для которого достигается минимум ошибки классификации на контрольной выборке."
   ]
  },
  {
   "cell_type": "code",
   "execution_count": 14,
   "metadata": {},
   "outputs": [
    {
     "data": {
      "image/png": "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\n",
      "text/plain": [
       "<Figure size 432x288 with 1 Axes>"
      ]
     },
     "metadata": {},
     "output_type": "display_data"
    }
   ],
   "source": [
    "random.seed(0) # Зафиксируем seed для получния воспроизводимого результата\n",
    "np.random.seed(0)\n",
    "\n",
    "def plot_classification_error(hidden_neurons_num, res_train_vec, res_test_vec):\n",
    "# hidden_neurons_num -- массив размера h, содержащий количество нейронов, по которому предполагается провести перебор,\n",
    "#   hidden_neurons_num = [50, 100, 200, 500, 700, 1000];\n",
    "# res_train_vec -- массив размера h, содержащий значения доли неправильных ответов классификации на обучении;\n",
    "# res_train_vec -- массив размера h, содержащий значения доли неправильных ответов классификации на контроле\n",
    "    plt.figure()\n",
    "    plt.plot(hidden_neurons_num, res_train_vec)\n",
    "    plt.plot(hidden_neurons_num, res_test_vec, '-r')\n",
    "\n",
    "def write_answer_nn(optimal_neurons_num):\n",
    "    with open(\"nnets_answer1.txt\", \"w\") as fout:\n",
    "        fout.write(str(optimal_neurons_num))\n",
    "\n",
    "hidden_neurons_num = [50, 100, 200, 500, 700, 1000]\n",
    "res_train_vec = list()\n",
    "res_test_vec = list()\n",
    "\n",
    "for nnum in hidden_neurons_num:\n",
    "    net = buildNetwork(ds_train.indim, nnum, ds_train.outdim, outclass=SoftmaxLayer)\n",
    "    init_params = np.random.random((len(net.params))) # Инициализируем веса сети для получения воспроизводимого результата\n",
    "    net._setParameters(init_params)\n",
    "    trainer = BackpropTrainer(net, dataset=ds_train) # Инициализируем модуль оптимизации\n",
    "    err_train, err_val = trainer.trainUntilConvergence(maxEpochs=MAX_EPOCHS)\n",
    "    \n",
    "    res_train = net.activateOnDataset(ds_train).argmax(axis=1)\n",
    "    res_test = net.activateOnDataset(ds_test).argmax(axis=1)\n",
    "    \n",
    "    res_train_vec.append(percentError(res_train, ds_train['target'].argmax(axis=1))) # Подсчет результата на обучающей выборке\n",
    "    res_test_vec.append(percentError(res_test, ds_test['target'].argmax(axis=1)))\n",
    "    \n",
    "    # Не забудьте про инициализацию весов командой np.random.random((len(net.params)))\n",
    "    \n",
    "# Постройте график зависимости ошибок на обучении и контроле в зависимости от количества нейронов\n",
    "plot_classification_error(hidden_neurons_num, res_train_vec, res_test_vec)          \n",
    "#  Запишите в файл количество нейронов, при котором достигается минимум ошибки на контроле\n"
   ]
  },
  {
   "cell_type": "code",
<<<<<<< HEAD
   "execution_count": 15,
   "metadata": {},
   "outputs": [],
=======
   "execution_count": 41,
   "metadata": {},
   "outputs": [
    {
     "data": {
      "text/plain": [
       "array([0, 1, 1, 1, 2, 0, 0, 1, 0, 0, 0, 0, 1, 0, 1, 1, 1, 1, 1, 0, 1, 0,\n",
       "       1, 0, 0, 0, 0, 1, 0, 0, 1, 0, 1, 0, 1, 0, 0, 0, 1, 1, 1, 1, 0, 1,\n",
       "       0, 0, 1, 0, 0, 0, 0, 0, 1, 0, 1, 0, 0, 0, 1, 1, 0, 1, 1, 0, 0, 1,\n",
       "       1, 1, 1, 1, 0, 0, 1, 0, 1, 1, 1, 0, 0, 1, 0, 0, 1, 1, 1, 0, 0, 0,\n",
       "       0, 0, 0, 0, 1, 0, 1, 0, 1, 1, 1, 1, 1, 1, 0, 1, 0, 0, 0, 1, 1, 0,\n",
       "       1, 0, 1, 0, 1, 0, 1, 1, 1, 1, 0, 1, 0, 0, 0, 1, 0, 0, 1, 1, 0, 1,\n",
       "       1, 2, 0, 0, 1, 0, 0, 1, 1, 0, 1, 0, 1, 1, 1, 1, 1, 0, 0, 1, 1, 1,\n",
       "       0, 1, 0, 0, 1, 1, 1, 1, 0, 0, 1, 0, 1, 1, 0, 1, 0, 0, 0, 1, 1, 0,\n",
       "       1, 1, 1, 0, 0, 1, 1, 1, 1, 0, 1, 0, 0, 0, 1, 0, 1, 1, 0, 0, 0, 1,\n",
       "       0, 0, 0, 1, 0, 1, 1, 0, 0, 1, 1, 0, 0, 0, 0, 0, 1, 1, 1, 0, 1, 0,\n",
       "       0, 0, 1, 0, 0, 0, 0, 1, 1, 1, 0, 1, 0, 1, 1, 1, 1, 1, 2, 1, 0, 0,\n",
       "       0, 0, 1, 0, 0, 0, 0, 0, 0, 1, 0, 0, 1, 0, 0, 0, 0, 0, 1, 0, 0, 1,\n",
       "       1, 1, 1, 1, 0, 1, 1, 0, 0, 0, 1, 1, 1, 0, 1, 1, 1, 1, 0, 0, 1, 0,\n",
       "       0, 1, 1, 0, 1, 1, 0, 1, 0, 1, 0, 0, 0, 0, 1, 1, 0, 0, 1, 1, 1, 1,\n",
       "       0, 0, 0, 1, 0, 1, 0, 0, 2, 1, 1, 1, 0, 0, 1, 0, 1, 0, 0, 0, 0, 0,\n",
       "       1, 1, 0, 0, 1, 0, 0, 1, 0, 1, 0, 0, 1, 1, 1, 0, 0, 0, 1, 1, 0, 1,\n",
       "       0, 1, 0, 1, 1, 1, 1, 1, 0, 0, 0, 1, 0, 1, 0, 1, 0, 1, 0, 1, 1, 1,\n",
       "       1, 0, 1, 1, 1, 1, 1, 1, 0, 1, 0, 1, 1, 0, 0, 0, 1, 0, 0, 1, 0, 1,\n",
       "       0, 0, 0, 0, 0, 0, 1, 1, 0, 0, 1, 1, 1, 1, 1, 0, 0, 1, 1, 0, 1, 0,\n",
       "       0, 1, 0, 1, 0, 0, 1, 1, 1, 1, 0, 0, 0, 0, 0, 0, 1, 1, 0, 0, 1, 1,\n",
       "       0, 0, 1, 0, 1, 0, 1, 1, 0, 0, 1, 0, 0, 0, 1, 0, 0, 0, 0, 0, 0, 1,\n",
       "       1, 0, 0, 0, 1, 1, 1, 0, 1, 0, 1, 0, 0, 1, 0, 0, 1, 0])"
      ]
     },
     "execution_count": 41,
     "metadata": {},
     "output_type": "execute_result"
    }
   ],
>>>>>>> 0234bdbfbe9845ff5d2fcd24c36f728212f3371d
   "source": [
    "import numpy\n",
    "write_answer_nn(hidden_neurons_num[res_test_vec.index(numpy.min(res_test_vec))]) "
   ]
  },
  {
   "cell_type": "code",
   "execution_count": null,
   "metadata": {},
   "outputs": [],
   "source": []
  }
 ],
 "metadata": {
  "kernelspec": {
   "display_name": "Python 2",
   "language": "python",
   "name": "python2"
  },
  "language_info": {
   "codemirror_mode": {
    "name": "ipython",
    "version": 2
   },
   "file_extension": ".py",
   "mimetype": "text/x-python",
   "name": "python",
   "nbconvert_exporter": "python",
   "pygments_lexer": "ipython2",
   "version": "2.7.15"
  }
 },
 "nbformat": 4,
 "nbformat_minor": 1
}
