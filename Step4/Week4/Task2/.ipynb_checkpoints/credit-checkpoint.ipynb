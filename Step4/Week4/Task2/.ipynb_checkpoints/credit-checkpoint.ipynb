{
 "cells": [
  {
   "cell_type": "code",
   "execution_count": 2,
   "metadata": {},
   "outputs": [],
   "source": [
    "import numpy as np\n",
    "import pandas as pd\n",
    "import seaborn as sns\n",
    "import scipy\n",
    "from scipy import stats"
   ]
  },
  {
   "cell_type": "code",
   "execution_count": 3,
   "metadata": {},
   "outputs": [
    {
     "name": "stdout",
     "output_type": "stream",
     "text": [
      "Populating the interactive namespace from numpy and matplotlib\n"
     ]
    }
   ],
   "source": [
    "%pylab inline"
   ]
  },
  {
   "cell_type": "code",
   "execution_count": 4,
   "metadata": {},
   "outputs": [],
   "source": [
    "data = pd.read_csv('credit_card_default_analysis.csv')"
   ]
  },
  {
   "cell_type": "markdown",
   "metadata": {},
   "source": [
    "### Посмотрим на данные"
   ]
  },
  {
   "cell_type": "code",
   "execution_count": 5,
   "metadata": {},
   "outputs": [
    {
     "data": {
      "text/html": [
       "<div>\n",
       "<style scoped>\n",
       "    .dataframe tbody tr th:only-of-type {\n",
       "        vertical-align: middle;\n",
       "    }\n",
       "\n",
       "    .dataframe tbody tr th {\n",
       "        vertical-align: top;\n",
       "    }\n",
       "\n",
       "    .dataframe thead th {\n",
       "        text-align: right;\n",
       "    }\n",
       "</style>\n",
       "<table border=\"1\" class=\"dataframe\">\n",
       "  <thead>\n",
       "    <tr style=\"text-align: right;\">\n",
       "      <th></th>\n",
       "      <th>ID</th>\n",
       "      <th>LIMIT_BAL</th>\n",
       "      <th>SEX</th>\n",
       "      <th>EDUCATION</th>\n",
       "      <th>MARRIAGE</th>\n",
       "      <th>AGE</th>\n",
       "      <th>PAY_0</th>\n",
       "      <th>PAY_2</th>\n",
       "      <th>PAY_3</th>\n",
       "      <th>PAY_4</th>\n",
       "      <th>...</th>\n",
       "      <th>BILL_AMT4</th>\n",
       "      <th>BILL_AMT5</th>\n",
       "      <th>BILL_AMT6</th>\n",
       "      <th>PAY_AMT1</th>\n",
       "      <th>PAY_AMT2</th>\n",
       "      <th>PAY_AMT3</th>\n",
       "      <th>PAY_AMT4</th>\n",
       "      <th>PAY_AMT5</th>\n",
       "      <th>PAY_AMT6</th>\n",
       "      <th>default</th>\n",
       "    </tr>\n",
       "  </thead>\n",
       "  <tbody>\n",
       "    <tr>\n",
       "      <th>0</th>\n",
       "      <td>1</td>\n",
       "      <td>20000</td>\n",
       "      <td>2</td>\n",
       "      <td>2</td>\n",
       "      <td>1</td>\n",
       "      <td>24</td>\n",
       "      <td>2</td>\n",
       "      <td>2</td>\n",
       "      <td>0</td>\n",
       "      <td>0</td>\n",
       "      <td>...</td>\n",
       "      <td>0</td>\n",
       "      <td>0</td>\n",
       "      <td>0</td>\n",
       "      <td>0</td>\n",
       "      <td>689</td>\n",
       "      <td>0</td>\n",
       "      <td>0</td>\n",
       "      <td>0</td>\n",
       "      <td>0</td>\n",
       "      <td>1</td>\n",
       "    </tr>\n",
       "    <tr>\n",
       "      <th>1</th>\n",
       "      <td>2</td>\n",
       "      <td>120000</td>\n",
       "      <td>2</td>\n",
       "      <td>2</td>\n",
       "      <td>2</td>\n",
       "      <td>26</td>\n",
       "      <td>0</td>\n",
       "      <td>2</td>\n",
       "      <td>0</td>\n",
       "      <td>0</td>\n",
       "      <td>...</td>\n",
       "      <td>3272</td>\n",
       "      <td>3455</td>\n",
       "      <td>3261</td>\n",
       "      <td>0</td>\n",
       "      <td>1000</td>\n",
       "      <td>1000</td>\n",
       "      <td>1000</td>\n",
       "      <td>0</td>\n",
       "      <td>2000</td>\n",
       "      <td>1</td>\n",
       "    </tr>\n",
       "    <tr>\n",
       "      <th>2</th>\n",
       "      <td>3</td>\n",
       "      <td>90000</td>\n",
       "      <td>2</td>\n",
       "      <td>2</td>\n",
       "      <td>2</td>\n",
       "      <td>34</td>\n",
       "      <td>0</td>\n",
       "      <td>0</td>\n",
       "      <td>0</td>\n",
       "      <td>0</td>\n",
       "      <td>...</td>\n",
       "      <td>14331</td>\n",
       "      <td>14948</td>\n",
       "      <td>15549</td>\n",
       "      <td>1518</td>\n",
       "      <td>1500</td>\n",
       "      <td>1000</td>\n",
       "      <td>1000</td>\n",
       "      <td>1000</td>\n",
       "      <td>5000</td>\n",
       "      <td>0</td>\n",
       "    </tr>\n",
       "    <tr>\n",
       "      <th>3</th>\n",
       "      <td>4</td>\n",
       "      <td>50000</td>\n",
       "      <td>2</td>\n",
       "      <td>2</td>\n",
       "      <td>1</td>\n",
       "      <td>37</td>\n",
       "      <td>0</td>\n",
       "      <td>0</td>\n",
       "      <td>0</td>\n",
       "      <td>0</td>\n",
       "      <td>...</td>\n",
       "      <td>28314</td>\n",
       "      <td>28959</td>\n",
       "      <td>29547</td>\n",
       "      <td>2000</td>\n",
       "      <td>2019</td>\n",
       "      <td>1200</td>\n",
       "      <td>1100</td>\n",
       "      <td>1069</td>\n",
       "      <td>1000</td>\n",
       "      <td>0</td>\n",
       "    </tr>\n",
       "    <tr>\n",
       "      <th>4</th>\n",
       "      <td>5</td>\n",
       "      <td>50000</td>\n",
       "      <td>1</td>\n",
       "      <td>2</td>\n",
       "      <td>1</td>\n",
       "      <td>57</td>\n",
       "      <td>0</td>\n",
       "      <td>0</td>\n",
       "      <td>0</td>\n",
       "      <td>0</td>\n",
       "      <td>...</td>\n",
       "      <td>20940</td>\n",
       "      <td>19146</td>\n",
       "      <td>19131</td>\n",
       "      <td>2000</td>\n",
       "      <td>36681</td>\n",
       "      <td>10000</td>\n",
       "      <td>9000</td>\n",
       "      <td>689</td>\n",
       "      <td>679</td>\n",
       "      <td>0</td>\n",
       "    </tr>\n",
       "  </tbody>\n",
       "</table>\n",
       "<p>5 rows × 25 columns</p>\n",
       "</div>"
      ],
      "text/plain": [
       "   ID  LIMIT_BAL  SEX  EDUCATION  MARRIAGE  AGE  PAY_0  PAY_2  PAY_3  PAY_4  \\\n",
       "0   1      20000    2          2         1   24      2      2      0      0   \n",
       "1   2     120000    2          2         2   26      0      2      0      0   \n",
       "2   3      90000    2          2         2   34      0      0      0      0   \n",
       "3   4      50000    2          2         1   37      0      0      0      0   \n",
       "4   5      50000    1          2         1   57      0      0      0      0   \n",
       "\n",
       "    ...     BILL_AMT4  BILL_AMT5  BILL_AMT6  PAY_AMT1  PAY_AMT2  PAY_AMT3  \\\n",
       "0   ...             0          0          0         0       689         0   \n",
       "1   ...          3272       3455       3261         0      1000      1000   \n",
       "2   ...         14331      14948      15549      1518      1500      1000   \n",
       "3   ...         28314      28959      29547      2000      2019      1200   \n",
       "4   ...         20940      19146      19131      2000     36681     10000   \n",
       "\n",
       "   PAY_AMT4  PAY_AMT5  PAY_AMT6  default  \n",
       "0         0         0         0        1  \n",
       "1      1000         0      2000        1  \n",
       "2      1000      1000      5000        0  \n",
       "3      1100      1069      1000        0  \n",
       "4      9000       689       679        0  \n",
       "\n",
       "[5 rows x 25 columns]"
      ]
     },
     "execution_count": 5,
     "metadata": {},
     "output_type": "execute_result"
    }
   ],
   "source": [
    "data.head()"
   ]
  },
  {
   "cell_type": "markdown",
   "metadata": {},
   "source": [
    "# 1. Размер кредитного лимита"
   ]
  },
  {
   "cell_type": "markdown",
   "metadata": {},
   "source": [
    "### Проверьте гипотезу о равенстве медианных значений кредитного лимита с помощью подходящей интервальной оценки"
   ]
  },
  {
   "cell_type": "markdown",
   "metadata": {},
   "source": [
    " $H_0\\colon$ Медианы хороших и плохих клиентов равны.\n",
    " \n",
    " $H_1\\colon$ Не равны."
   ]
  },
  {
   "cell_type": "code",
   "execution_count": 6,
   "metadata": {},
   "outputs": [
    {
     "data": {
      "text/plain": [
       "0    23364\n",
       "1     6636\n",
       "Name: default, dtype: int64"
      ]
     },
     "execution_count": 6,
     "metadata": {},
     "output_type": "execute_result"
    }
   ],
   "source": [
    "data.default.value_counts()"
   ]
  },
  {
   "cell_type": "code",
   "execution_count": 7,
   "metadata": {},
   "outputs": [],
   "source": [
    "good_clients = data[data['default'] == 0]\n",
    "bad_clients = data[data['default'] == 1]"
   ]
  },
  {
   "cell_type": "code",
   "execution_count": 8,
   "metadata": {},
   "outputs": [
    {
     "data": {
      "text/plain": [
       "Text(0.5,1,'Плохие клиенты с просрочками ')"
      ]
     },
     "execution_count": 8,
     "metadata": {},
     "output_type": "execute_result"
    },
    {
     "data": {
      "image/png": "[encoded data removed]",
      "text/plain": [
       "<Figure size 1152x288 with 2 Axes>"
      ]
     },
     "metadata": {},
     "output_type": "display_data"
    }
   ],
   "source": [
    "pylab.figure(figsize=(16, 4))\n",
    "pylab.subplot(1, 2, 1)\n",
    "good_clients.LIMIT_BAL.hist(bins = 50)\n",
    "pylab.xlabel('Размер кредитного лимита, руб.')\n",
    "pylab.ylabel('Количество кредитов, шт.')\n",
    "pylab.title('Хорошие клиенты без просрочек ')\n",
    "\n",
    "pylab.subplot(1, 2, 2)\n",
    "bad_clients.LIMIT_BAL.hist(bins = 50, color = 'red')\n",
    "pylab.xlabel('Размер кредитного лимита, руб.')\n",
    "pylab.ylabel('Количество кредитов, шт.')\n",
    "pylab.title('Плохие клиенты с просрочками ')"
   ]
  },
  {
   "cell_type": "markdown",
   "metadata": {},
   "source": [
    "Прежде, чем расчтывать доверительные интервалы, проверим распределение на нормальность, используя критерий Шапиро-Уилка:\n",
    "\n",
    " $H_0\\colon$ размер кредитного  лимита хороших клиентов распределен нормально\n",
    " \n",
    " $H_1\\colon$ не нормально."
   ]
  },
  {
   "cell_type": "code",
   "execution_count": 9,
   "metadata": {},
   "outputs": [
    {
     "name": "stdout",
     "output_type": "stream",
     "text": [
      "Тест Шапиро, W-statistic: 0.919726, p-value: 0.000000\n"
     ]
    },
    {
     "name": "stderr",
     "output_type": "stream",
     "text": [
      "/home/tahhu/anaconda3/lib/python3.6/site-packages/scipy/stats/morestats.py:1309: UserWarning: p-value may not be accurate for N > 5000.\n",
      "  warnings.warn(\"p-value may not be accurate for N > 5000.\")\n"
     ]
    }
   ],
   "source": [
    "print (\"Тест Шапиро, W-statistic: %f, p-value: %f\" % stats.shapiro(good_clients.LIMIT_BAL))"
   ]
  },
  {
   "cell_type": "markdown",
   "metadata": {},
   "source": [
    "$H_0\\colon$ отклоняется, следовательно данные распределены не нормально. Для статистик (в .т.ч. медиан), о распределении которых нам ничего неизвестно, будем использовать bootstrap."
   ]
  },
  {
   "cell_type": "code",
   "execution_count": 10,
   "metadata": {},
   "outputs": [],
   "source": [
    "def get_bootstrap_samples(data, n_samples):\n",
    "    indices = np.random.randint(0, len(data), (n_samples, len(data)))\n",
    "    samples = data[indices]\n",
    "    return samples"
   ]
  },
  {
   "cell_type": "code",
   "execution_count": 11,
   "metadata": {},
   "outputs": [],
   "source": [
    "def stat_intervals(stat, alpha):\n",
    "    boundaries = np.percentile(stat, [100 * alpha / 2., 100 * (1 - alpha / 2.)])\n",
    "    return boundaries"
   ]
  },
  {
   "cell_type": "code",
   "execution_count": 12,
   "metadata": {},
   "outputs": [],
   "source": [
    "good_clients_credit_limits_median =list(map(np.median, get_bootstrap_samples(good_clients.LIMIT_BAL.values, 1000)))\n",
    "bad_clients_credit_limits_median =list(map(np.median, get_bootstrap_samples(bad_clients.LIMIT_BAL.values, 1000)))"
   ]
  },
  {
   "cell_type": "code",
   "execution_count": 13,
   "metadata": {},
   "outputs": [],
   "source": [
    "diff_median = list(map(lambda x: x[0] - x[1], zip(good_clients_credit_limits_median, bad_clients_credit_limits_median)))"
   ]
  },
  {
   "cell_type": "code",
   "execution_count": 14,
   "metadata": {},
   "outputs": [
    {
     "name": "stdout",
     "output_type": "stream",
     "text": [
      "95% довер. интервал медианы кредитного лимита для хороших клиентов:  [150000. 150000.]\n",
      "95% довер. интервал медианы кредитного лимита для плохих клиентов: [80000. 90000.]\n",
      "95% довер. интервал для разности медиан лимита для плохих и хороших клиентов: [60000. 70000.]\n"
     ]
    }
   ],
   "source": [
    "print (\"95% довер. интервал медианы кредитного лимита для хороших клиентов: \",  stat_intervals(good_clients_credit_limits_median, 0.05))\n",
    "print (\"95% довер. интервал медианы кредитного лимита для плохих клиентов:\",  stat_intervals(bad_clients_credit_limits_median, 0.05))\n",
    "print (\"95% довер. интервал для разности медиан лимита для плохих и хороших клиентов:\",  stat_intervals(diff_median, 0.05))"
   ]
  },
  {
   "cell_type": "markdown",
   "metadata": {},
   "source": [
    "Вывод: интервалы для медиан лимитов для хороших и плохих клиентов не пересекаются.\n",
    "Доверительный интервал для разности медиан не содержит 0.\n",
    "Гипотезу о равенстве медиан отвергаем."
   ]
  },
  {
   "cell_type": "markdown",
   "metadata": {},
   "source": [
    "### Проверьте гипотезу о равенстве распределений с помощью одного из подходящих непараметрических критериев проверки равенства средних. \n"
   ]
  },
  {
   "cell_type": "markdown",
   "metadata": {},
   "source": [
    "Для проверки воспользуемся критерием Манна-Уитни для независимых выборок."
   ]
  },
  {
   "cell_type": "markdown",
   "metadata": {},
   "source": [
    " $H_0\\colon$ Распределения кредитных лимитов хороших и плохих клиентов равны.\n",
    " \n",
    " $H_1\\colon$ Не равны."
   ]
  },
  {
   "cell_type": "code",
   "execution_count": 15,
   "metadata": {},
   "outputs": [
    {
     "data": {
      "text/plain": [
       "MannwhitneyuResult(statistic=59257217.5, pvalue=6.127742909111652e-190)"
      ]
     },
     "execution_count": 15,
     "metadata": {},
     "output_type": "execute_result"
    }
   ],
   "source": [
    "stats.mannwhitneyu(good_clients.LIMIT_BAL.values, bad_clients.LIMIT_BAL.values)"
   ]
  },
  {
   "cell_type": "markdown",
   "metadata": {},
   "source": [
    "Pvalue получился очень маленький, следовательно мы можем отвергнуть  $H_0\\colon$. \n",
    "Распределения кредитных лимитов для хороших и плохих клиентов не равны."
   ]
  },
  {
   "cell_type": "markdown",
   "metadata": {},
   "source": [
    "### Значимы ли полученные результаты с практической точки зрения ?"
   ]
  },
  {
   "cell_type": "markdown",
   "metadata": {},
   "source": [
    "С практической точки зрения результаты значимы."
   ]
  },
  {
   "cell_type": "markdown",
   "metadata": {},
   "source": [
    "# 2. Пол"
   ]
  },
  {
   "cell_type": "markdown",
   "metadata": {},
   "source": [
    " ### Проверьте гипотезу о том, что гендерный состав группы людей вернувших и не вернувших кредит отличается. "
   ]
  },
  {
   "cell_type": "markdown",
   "metadata": {},
   "source": [
    "### a) с помощью доверительного интервала для разности средних"
   ]
  },
  {
   "cell_type": "code",
   "execution_count": 16,
   "metadata": {},
   "outputs": [
    {
     "data": {
      "text/html": [
       "<div>\n",
       "<style scoped>\n",
       "    .dataframe tbody tr th:only-of-type {\n",
       "        vertical-align: middle;\n",
       "    }\n",
       "\n",
       "    .dataframe tbody tr th {\n",
       "        vertical-align: top;\n",
       "    }\n",
       "\n",
       "    .dataframe thead th {\n",
       "        text-align: right;\n",
       "    }\n",
       "</style>\n",
       "<table border=\"1\" class=\"dataframe\">\n",
       "  <thead>\n",
       "    <tr style=\"text-align: right;\">\n",
       "      <th></th>\n",
       "      <th>Pay</th>\n",
       "      <th>Not_pay</th>\n",
       "      <th>All</th>\n",
       "    </tr>\n",
       "  </thead>\n",
       "  <tbody>\n",
       "    <tr>\n",
       "      <th>Man</th>\n",
       "      <td>9015</td>\n",
       "      <td>2873</td>\n",
       "      <td>11888</td>\n",
       "    </tr>\n",
       "    <tr>\n",
       "      <th>Woman</th>\n",
       "      <td>14349</td>\n",
       "      <td>3763</td>\n",
       "      <td>18112</td>\n",
       "    </tr>\n",
       "    <tr>\n",
       "      <th>All</th>\n",
       "      <td>23364</td>\n",
       "      <td>6636</td>\n",
       "      <td>30000</td>\n",
       "    </tr>\n",
       "  </tbody>\n",
       "</table>\n",
       "</div>"
      ],
      "text/plain": [
       "         Pay  Not_pay    All\n",
       "Man     9015     2873  11888\n",
       "Woman  14349     3763  18112\n",
       "All    23364     6636  30000"
      ]
     },
     "execution_count": 16,
     "metadata": {},
     "output_type": "execute_result"
    }
   ],
   "source": [
    "data_sex = pd.crosstab(data.default, data.SEX, margins=True)\n",
    "data_sex.columns = ['Man', 'Woman',  'All']\n",
    "data_sex.index = ['Pay', 'Not_pay', 'All']\n",
    "data_sex = data_sex.T\n",
    "data_sex"
   ]
  },
  {
   "cell_type": "markdown",
   "metadata": {},
   "source": [
    "Сравним долю женщин среди вернувших и не вернувших кредит:"
   ]
  },
  {
   "cell_type": "markdown",
   "metadata": {},
   "source": [
    "#### Интервальная оценка долей"
   ]
  },
  {
   "cell_type": "code",
   "execution_count": 17,
   "metadata": {},
   "outputs": [
    {
     "data": {
      "text/plain": [
       "<matplotlib.legend.Legend at 0x7f0a89e74d68>"
      ]
     },
     "execution_count": 17,
     "metadata": {},
     "output_type": "execute_result"
    },
    {
     "data": {
      "image/png": "[encoded data removed]",
      "text/plain": [
       "<Figure size 432x288 with 1 Axes>"
      ]
     },
     "metadata": {},
     "output_type": "display_data"
    }
   ],
   "source": [
    "sns.countplot(x='SEX', hue='default', data=data);\n",
    "plt.xlabel('Семейное положение')\n",
    "plt.xticks(np.arange(len(data_sex.index)), ('Man', 'Woman',  'All'))\n",
    "plt.ylabel('Количество кредитов, шт.')\n",
    "plt.title('Влияние возраста на просрочки по кредиту')\n",
    "plt.legend(['Заплатил вовремя', 'Просрочил'])"
   ]
  },
  {
   "cell_type": "code",
   "execution_count": 18,
   "metadata": {},
   "outputs": [],
   "source": [
    "import scipy\n",
    "from statsmodels.stats.weightstats import *\n",
    "from statsmodels.stats.proportion import proportion_confint"
   ]
  },
  {
   "cell_type": "code",
   "execution_count": 19,
   "metadata": {},
   "outputs": [
    {
     "name": "stdout",
     "output_type": "stream",
     "text": [
      "Доля женщин, выплативших кредит: (0.7862670348654015, 0.7980834091403679)\n",
      "Доля мужчин, задолжавших по кредиту: (0.7505495900214224, 0.7659389640236883)\n"
     ]
    }
   ],
   "source": [
    "good_woman_conf_interval = proportion_confint(data_sex.Pay['Woman'], \n",
    "                                            data_sex.Pay['Woman'] + data_sex.Not_pay['Woman'],\n",
    "                                            method = 'wilson')\n",
    "good_man_conf_interval = proportion_confint(data_sex.Pay['Man'], \n",
    "                                           data_sex.Pay['Man'] + data_sex.Not_pay['Man'],\n",
    "                                            method = 'wilson')\n",
    "\n",
    "print('Доля женщин, выплативших кредит:', good_woman_conf_interval)\n",
    "print('Доля мужчин, задолжавших по кредиту:', good_man_conf_interval)"
   ]
  },
  {
   "cell_type": "markdown",
   "metadata": {},
   "source": [
    "Интеравалы не пересекаются. Следовательно гендерный состав группы людей вернувших и не вернувших кредит отличается. Но для верности построим еще доверительный интервал для разности долей."
   ]
  },
  {
   "attachments": {
    "%D0%B8%D0%B7%D0%BE%D0%B1%D1%80%D0%B0%D0%B6%D0%B5%D0%BD%D0%B8%D0%B5.png": {
     "image/png": "[encoded data removed]"
    }
   },
   "cell_type": "markdown",
   "metadata": {},
   "source": [
    "![%D0%B8%D0%B7%D0%BE%D0%B1%D1%80%D0%B0%D0%B6%D0%B5%D0%BD%D0%B8%D0%B5.png](attachment:%D0%B8%D0%B7%D0%BE%D0%B1%D1%80%D0%B0%D0%B6%D0%B5%D0%BD%D0%B8%D0%B5.png)"
   ]
  },
  {
   "cell_type": "code",
   "execution_count": 20,
   "metadata": {},
   "outputs": [
    {
     "data": {
      "text/html": [
       "<div>\n",
       "<style scoped>\n",
       "    .dataframe tbody tr th:only-of-type {\n",
       "        vertical-align: middle;\n",
       "    }\n",
       "\n",
       "    .dataframe tbody tr th {\n",
       "        vertical-align: top;\n",
       "    }\n",
       "\n",
       "    .dataframe thead th {\n",
       "        text-align: right;\n",
       "    }\n",
       "</style>\n",
       "<table border=\"1\" class=\"dataframe\">\n",
       "  <thead>\n",
       "    <tr style=\"text-align: right;\">\n",
       "      <th></th>\n",
       "      <th>Pay</th>\n",
       "      <th>Not_pay</th>\n",
       "      <th>All</th>\n",
       "    </tr>\n",
       "  </thead>\n",
       "  <tbody>\n",
       "    <tr>\n",
       "      <th>Man</th>\n",
       "      <td>9015</td>\n",
       "      <td>2873</td>\n",
       "      <td>11888</td>\n",
       "    </tr>\n",
       "    <tr>\n",
       "      <th>Woman</th>\n",
       "      <td>14349</td>\n",
       "      <td>3763</td>\n",
       "      <td>18112</td>\n",
       "    </tr>\n",
       "    <tr>\n",
       "      <th>All</th>\n",
       "      <td>23364</td>\n",
       "      <td>6636</td>\n",
       "      <td>30000</td>\n",
       "    </tr>\n",
       "  </tbody>\n",
       "</table>\n",
       "</div>"
      ],
      "text/plain": [
       "         Pay  Not_pay    All\n",
       "Man     9015     2873  11888\n",
       "Woman  14349     3763  18112\n",
       "All    23364     6636  30000"
      ]
     },
     "execution_count": 20,
     "metadata": {},
     "output_type": "execute_result"
    }
   ],
   "source": [
    "data_sex"
   ]
  },
  {
   "cell_type": "code",
   "execution_count": 21,
   "metadata": {},
   "outputs": [],
   "source": [
    "def proportions_confint_diff_ind(data_sex, alpha = 0.05):    \n",
    "    z = scipy.stats.norm.ppf(1 - alpha / 2.)\n",
    "    a = data_sex.Pay['Woman']\n",
    "    n1 = data_sex.Pay['Woman'] + data_sex.Not_pay['Woman']\n",
    "    b = data_sex.Pay['Man'] \n",
    "    n2 = data_sex.Pay['Man'] + data_sex.Not_pay['Man']\n",
    "    \n",
    "    p1 = a / n1\n",
    "    p2 = b / n2\n",
    "    \n",
    "    left_boundary = (p1 - p2) - z * np.sqrt(p1 * (1 - p1)/ n1 + p2 * (1 - p2)/ n2)\n",
    "    right_boundary = (p1 - p2) + z * np.sqrt(p1 * (1 - p1)/ n1 + p2 * (1 - p2)/ n2)\n",
    "    \n",
    "    return (left_boundary, right_boundary)"
   ]
  },
  {
   "cell_type": "code",
   "execution_count": 22,
   "metadata": {},
   "outputs": [
    {
     "name": "stdout",
     "output_type": "stream",
     "text": [
      "95% доверительный интервал разницы долей (кредит без просрочек/кредит с просрочками) между мужчинами и женщинами: (0.02420737217979268, 0.04361155857081717)\n"
     ]
    }
   ],
   "source": [
    "print('95% доверительный интервал разницы долей (кредит без просрочек/кредит с просрочками) между мужчинами и женщинами:', proportions_confint_diff_ind(data_sex, alpha = 0.05))"
   ]
  },
  {
   "cell_type": "markdown",
   "metadata": {},
   "source": [
    "Доверетельный интервал для разницы не содержит 0. Следовательно, гендерный состав группы людей вернувших и не вернувших кредит отличается (женщины немного ответсвеннее при выплате кредита). \n",
    "Но разница очень маленькая и практическая значимость сомнительна."
   ]
  },
  {
   "cell_type": "markdown",
   "metadata": {},
   "source": [
    "#### С помощью Z-критерий"
   ]
  },
  {
   "cell_type": "code",
   "execution_count": 23,
   "metadata": {},
   "outputs": [],
   "source": [
    "# посчитаем Z критерий\n",
    "def proportions_diff_z_stat_ind(data_sex):\n",
    "    a = data_sex.Pay['Woman']\n",
    "    n1 = data_sex.Pay['Woman'] + data_sex.Not_pay['Woman']\n",
    "    b = data_sex.Pay['Man'] \n",
    "    n2 = data_sex.Pay['Man'] + data_sex.Not_pay['Man']\n",
    "    \n",
    "    p1 = a / n1\n",
    "    p2 = b / n2\n",
    "    \n",
    "    P = float(p1*n1 + p2*n2) / (n1 + n2)\n",
    "    \n",
    "    return (p1 - p2) / np.sqrt(P * (1 - P) * (1. / n1 + 1. / n2))"
   ]
  },
  {
   "cell_type": "code",
   "execution_count": 24,
   "metadata": {},
   "outputs": [
    {
     "name": "stdout",
     "output_type": "stream",
     "text": [
      "Z-критерий:  6.921375088562891\n"
     ]
    }
   ],
   "source": [
    "print('Z-критерий: ', proportions_diff_z_stat_ind(data_sex))"
   ]
  },
  {
   "cell_type": "code",
   "execution_count": 25,
   "metadata": {},
   "outputs": [],
   "source": [
    "def proportions_diff_z_test(z_stat, alternative = 'two-sided'):\n",
    "    if alternative not in ('two-sided', 'less', 'greater'):\n",
    "        raise ValueError(\"alternative not recognized\\n\"\n",
    "                         \"should be 'two-sided', 'less' or 'greater'\")\n",
    "    \n",
    "    if alternative == 'two-sided':\n",
    "        return 2 * (1 - scipy.stats.norm.cdf(np.abs(z_stat)))\n",
    "    \n",
    "    if alternative == 'less':\n",
    "        return scipy.stats.norm.cdf(z_stat)\n",
    "\n",
    "    if alternative == 'greater':\n",
    "        return 1 - scipy.stats.norm.cdf(z_stat)"
   ]
  },
  {
   "cell_type": "code",
   "execution_count": 26,
   "metadata": {},
   "outputs": [
    {
     "name": "stdout",
     "output_type": "stream",
     "text": [
      "P-value:  4.472866521609831e-12\n"
     ]
    }
   ],
   "source": [
    "print('P-value: ', proportions_diff_z_test(proportions_diff_z_stat_ind(data_sex), alternative = 'two-sided'))"
   ]
  },
  {
   "cell_type": "markdown",
   "metadata": {},
   "source": [
    "P-value, равное 4.47-12, подтверждает, что различия значимы."
   ]
  },
  {
   "cell_type": "markdown",
   "metadata": {},
   "source": [
    "# 3. Образование"
   ]
  },
  {
   "cell_type": "markdown",
   "metadata": {},
   "source": [
    " $H_0\\colon$ Образование не влияет на выплату кредита (выборки образования - независимы),\n",
    " \n",
    " $H_1\\colon$ Образование влияет на выплату кредита (выборки зависимы)."
   ]
  },
  {
   "cell_type": "code",
   "execution_count": 27,
   "metadata": {},
   "outputs": [
    {
     "data": {
      "text/html": [
       "<div>\n",
       "<style scoped>\n",
       "    .dataframe tbody tr th:only-of-type {\n",
       "        vertical-align: middle;\n",
       "    }\n",
       "\n",
       "    .dataframe tbody tr th {\n",
       "        vertical-align: top;\n",
       "    }\n",
       "\n",
       "    .dataframe thead th {\n",
       "        text-align: right;\n",
       "    }\n",
       "</style>\n",
       "<table border=\"1\" class=\"dataframe\">\n",
       "  <thead>\n",
       "    <tr style=\"text-align: right;\">\n",
       "      <th></th>\n",
       "      <th>Вернул</th>\n",
       "      <th>Просрочил</th>\n",
       "    </tr>\n",
       "  </thead>\n",
       "  <tbody>\n",
       "    <tr>\n",
       "      <th>доктор</th>\n",
       "      <td>14</td>\n",
       "      <td>0</td>\n",
       "    </tr>\n",
       "    <tr>\n",
       "      <th>магистр</th>\n",
       "      <td>8549</td>\n",
       "      <td>2036</td>\n",
       "    </tr>\n",
       "    <tr>\n",
       "      <th>бакалавр</th>\n",
       "      <td>10700</td>\n",
       "      <td>3330</td>\n",
       "    </tr>\n",
       "    <tr>\n",
       "      <th>выпускник школы</th>\n",
       "      <td>3680</td>\n",
       "      <td>1237</td>\n",
       "    </tr>\n",
       "    <tr>\n",
       "      <th>начальное образование</th>\n",
       "      <td>116</td>\n",
       "      <td>7</td>\n",
       "    </tr>\n",
       "    <tr>\n",
       "      <th>прочее</th>\n",
       "      <td>262</td>\n",
       "      <td>18</td>\n",
       "    </tr>\n",
       "    <tr>\n",
       "      <th>нет данных</th>\n",
       "      <td>43</td>\n",
       "      <td>8</td>\n",
       "    </tr>\n",
       "  </tbody>\n",
       "</table>\n",
       "</div>"
      ],
      "text/plain": [
       "                       Вернул  Просрочил\n",
       "доктор                     14          0\n",
       "магистр                  8549       2036\n",
       "бакалавр                10700       3330\n",
       "выпускник школы          3680       1237\n",
       "начальное образование     116          7\n",
       "прочее                    262         18\n",
       "нет данных                 43          8"
      ]
     },
     "execution_count": 27,
     "metadata": {},
     "output_type": "execute_result"
    }
   ],
   "source": [
    "data_education = pd.crosstab(data.EDUCATION, data.default)\n",
    "data_education.index = ['доктор', 'магистр', 'бакалавр', 'выпускник школы', 'начальное образование', 'прочее', 'нет данных']\n",
    "data_education.columns = ['Вернул', 'Просрочил']\n",
    "data_education"
   ]
  },
  {
   "cell_type": "code",
   "execution_count": 30,
   "metadata": {},
   "outputs": [
    {
     "data": {
      "text/plain": [
       "<matplotlib.legend.Legend at 0x7f0a89dbe400>"
      ]
     },
     "execution_count": 30,
     "metadata": {},
     "output_type": "execute_result"
    },
    {
     "data": {
      "image/png": "[encoded data removed]",
      "text/plain": [
       "<Figure size 432x288 with 1 Axes>"
      ]
     },
     "metadata": {},
     "output_type": "display_data"
    }
   ],
   "source": [
    "sns.countplot(x='EDUCATION', hue='default', data=data);\n",
    "plt.xlabel('Семейное положение')\n",
    "plt.xticks(np.arange(len(data_education.index)), ('доктор', 'магистр', 'бакалавр', 'выпускник школы', 'начальное образование', 'прочее', 'нет данных'))\n",
    "plt.ylabel('Количество кредитов, шт.')\n",
    "plt.title('Влияние образования на просрочки по кредиту')\n",
    "plt.legend(['Заплатил вовремя', 'Просрочил'])"
   ]
  },
  {
   "cell_type": "code",
   "execution_count": 31,
   "metadata": {},
   "outputs": [
    {
     "name": "stdout",
     "output_type": "stream",
     "text": [
      "Хи-квадрат равен:  163.21655786997073\n",
      "P-value:  1.2332626245415605e-32\n",
      "Ожидаемые значения:  [[1.0903200e+01 3.0968000e+00]\n",
      " [8.2435980e+03 2.3414020e+03]\n",
      " [1.0926564e+04 3.1034360e+03]\n",
      " [3.8293596e+03 1.0876404e+03]\n",
      " [9.5792400e+01 2.7207600e+01]\n",
      " [2.1806400e+02 6.1936000e+01]\n",
      " [3.9718800e+01 1.1281200e+01]]\n"
     ]
    }
   ],
   "source": [
    "chi2_edu =stats.chi2_contingency(data_education)\n",
    "print('Хи-квадрат равен: ', chi2_edu[0])\n",
    "print('P-value: ', chi2_edu[1])\n",
    "print('Ожидаемые значения: ',  chi2_edu[3])"
   ]
  },
  {
   "cell_type": "markdown",
   "metadata": {},
   "source": [
    "Значение p-value равно 1.23e-32, что позволяет отклонить Н0. \n",
    "Следовательно, образование влияет на выплату кредита."
   ]
  },
  {
   "cell_type": "markdown",
   "metadata": {},
   "source": [
    "Предложите способ наглядного представления разницы в ожидаемых и наблюдаемых значениях количества человек вернувших и не вернувших долг. Например, составьте таблицу сопряженности \"образование\" на \"возврат долга\", где значением ячейки была бы разность между наблюдаемым и ожидаемым количеством человек. "
   ]
  },
  {
   "cell_type": "code",
   "execution_count": 32,
   "metadata": {},
   "outputs": [
    {
     "data": {
      "text/html": [
       "<div>\n",
       "<style scoped>\n",
       "    .dataframe tbody tr th:only-of-type {\n",
       "        vertical-align: middle;\n",
       "    }\n",
       "\n",
       "    .dataframe tbody tr th {\n",
       "        vertical-align: top;\n",
       "    }\n",
       "\n",
       "    .dataframe thead th {\n",
       "        text-align: right;\n",
       "    }\n",
       "</style>\n",
       "<table border=\"1\" class=\"dataframe\">\n",
       "  <thead>\n",
       "    <tr style=\"text-align: right;\">\n",
       "      <th></th>\n",
       "      <th>Вернул</th>\n",
       "      <th>Просрочил</th>\n",
       "    </tr>\n",
       "  </thead>\n",
       "  <tbody>\n",
       "    <tr>\n",
       "      <th>доктор</th>\n",
       "      <td>11.0</td>\n",
       "      <td>3.0</td>\n",
       "    </tr>\n",
       "    <tr>\n",
       "      <th>магистр</th>\n",
       "      <td>8244.0</td>\n",
       "      <td>2341.0</td>\n",
       "    </tr>\n",
       "    <tr>\n",
       "      <th>бакалавр</th>\n",
       "      <td>10927.0</td>\n",
       "      <td>3103.0</td>\n",
       "    </tr>\n",
       "    <tr>\n",
       "      <th>выпускник школы</th>\n",
       "      <td>3829.0</td>\n",
       "      <td>1088.0</td>\n",
       "    </tr>\n",
       "    <tr>\n",
       "      <th>начальное образование</th>\n",
       "      <td>96.0</td>\n",
       "      <td>27.0</td>\n",
       "    </tr>\n",
       "    <tr>\n",
       "      <th>прочее</th>\n",
       "      <td>218.0</td>\n",
       "      <td>62.0</td>\n",
       "    </tr>\n",
       "    <tr>\n",
       "      <th>нет данных</th>\n",
       "      <td>40.0</td>\n",
       "      <td>11.0</td>\n",
       "    </tr>\n",
       "  </tbody>\n",
       "</table>\n",
       "</div>"
      ],
      "text/plain": [
       "                        Вернул  Просрочил\n",
       "доктор                    11.0        3.0\n",
       "магистр                 8244.0     2341.0\n",
       "бакалавр               10927.0     3103.0\n",
       "выпускник школы         3829.0     1088.0\n",
       "начальное образование     96.0       27.0\n",
       "прочее                   218.0       62.0\n",
       "нет данных                40.0       11.0"
      ]
     },
     "execution_count": 32,
     "metadata": {},
     "output_type": "execute_result"
    }
   ],
   "source": [
    "data_education_expected = pd.DataFrame(chi2_edu[3].round(0))\n",
    "data_education_expected.index = ['доктор', 'магистр', 'бакалавр', 'выпускник школы', 'начальное образование', 'прочее', 'нет данных']\n",
    "data_education_expected.columns = ['Вернул', 'Просрочил']\n",
    "data_education_expected"
   ]
  },
  {
   "cell_type": "markdown",
   "metadata": {},
   "source": [
    "Как бы вы предложили модифицировать таблицу так, чтобы привести значения ячеек к одному масштабу не потеряв в интерпретируемости ? "
   ]
  },
  {
   "cell_type": "code",
   "execution_count": 33,
   "metadata": {},
   "outputs": [
    {
     "data": {
      "text/html": [
       "<div>\n",
       "<style scoped>\n",
       "    .dataframe tbody tr th:only-of-type {\n",
       "        vertical-align: middle;\n",
       "    }\n",
       "\n",
       "    .dataframe tbody tr th {\n",
       "        vertical-align: top;\n",
       "    }\n",
       "\n",
       "    .dataframe thead th {\n",
       "        text-align: right;\n",
       "    }\n",
       "</style>\n",
       "<table border=\"1\" class=\"dataframe\">\n",
       "  <thead>\n",
       "    <tr style=\"text-align: right;\">\n",
       "      <th></th>\n",
       "      <th>Вернул_Ожид</th>\n",
       "      <th>Вернул_Факт</th>\n",
       "      <th>Вернул_Откл</th>\n",
       "      <th>Просрочил_Ожид</th>\n",
       "      <th>Просрочил_Факт</th>\n",
       "      <th>Просрочил_Откл</th>\n",
       "    </tr>\n",
       "  </thead>\n",
       "  <tbody>\n",
       "    <tr>\n",
       "      <th>доктор</th>\n",
       "      <td>11.0</td>\n",
       "      <td>14</td>\n",
       "      <td>3.0</td>\n",
       "      <td>3.0</td>\n",
       "      <td>0</td>\n",
       "      <td>-3.0</td>\n",
       "    </tr>\n",
       "    <tr>\n",
       "      <th>магистр</th>\n",
       "      <td>8244.0</td>\n",
       "      <td>8549</td>\n",
       "      <td>305.0</td>\n",
       "      <td>2341.0</td>\n",
       "      <td>2036</td>\n",
       "      <td>-305.0</td>\n",
       "    </tr>\n",
       "    <tr>\n",
       "      <th>бакалавр</th>\n",
       "      <td>10927.0</td>\n",
       "      <td>10700</td>\n",
       "      <td>-227.0</td>\n",
       "      <td>3103.0</td>\n",
       "      <td>3330</td>\n",
       "      <td>227.0</td>\n",
       "    </tr>\n",
       "    <tr>\n",
       "      <th>выпускник школы</th>\n",
       "      <td>3829.0</td>\n",
       "      <td>3680</td>\n",
       "      <td>-149.0</td>\n",
       "      <td>1088.0</td>\n",
       "      <td>1237</td>\n",
       "      <td>149.0</td>\n",
       "    </tr>\n",
       "    <tr>\n",
       "      <th>начальное образование</th>\n",
       "      <td>96.0</td>\n",
       "      <td>116</td>\n",
       "      <td>20.0</td>\n",
       "      <td>27.0</td>\n",
       "      <td>7</td>\n",
       "      <td>-20.0</td>\n",
       "    </tr>\n",
       "    <tr>\n",
       "      <th>прочее</th>\n",
       "      <td>218.0</td>\n",
       "      <td>262</td>\n",
       "      <td>44.0</td>\n",
       "      <td>62.0</td>\n",
       "      <td>18</td>\n",
       "      <td>-44.0</td>\n",
       "    </tr>\n",
       "    <tr>\n",
       "      <th>нет данных</th>\n",
       "      <td>40.0</td>\n",
       "      <td>43</td>\n",
       "      <td>3.0</td>\n",
       "      <td>11.0</td>\n",
       "      <td>8</td>\n",
       "      <td>-3.0</td>\n",
       "    </tr>\n",
       "  </tbody>\n",
       "</table>\n",
       "</div>"
      ],
      "text/plain": [
       "                       Вернул_Ожид  Вернул_Факт  Вернул_Откл  Просрочил_Ожид  \\\n",
       "доктор                        11.0           14          3.0             3.0   \n",
       "магистр                     8244.0         8549        305.0          2341.0   \n",
       "бакалавр                   10927.0        10700       -227.0          3103.0   \n",
       "выпускник школы             3829.0         3680       -149.0          1088.0   \n",
       "начальное образование         96.0          116         20.0            27.0   \n",
       "прочее                       218.0          262         44.0            62.0   \n",
       "нет данных                    40.0           43          3.0            11.0   \n",
       "\n",
       "                       Просрочил_Факт  Просрочил_Откл  \n",
       "доктор                              0            -3.0  \n",
       "магистр                          2036          -305.0  \n",
       "бакалавр                         3330           227.0  \n",
       "выпускник школы                  1237           149.0  \n",
       "начальное образование               7           -20.0  \n",
       "прочее                             18           -44.0  \n",
       "нет данных                          8            -3.0  "
      ]
     },
     "execution_count": 33,
     "metadata": {},
     "output_type": "execute_result"
    }
   ],
   "source": [
    "data_edu_dif = pd.concat([data_education, data_education_expected, data_education - data_education_expected ], axis = 1)\n",
    "data_edu_dif.columns = ['Вернул_Факт', 'Просрочил_Факт', 'Вернул_Ожид', 'Просрочил_Ожид', 'Вернул_Откл', 'Просрочил_Откл']\n",
    "data_edu_dif = data_edu_dif[[ 'Вернул_Ожид', 'Вернул_Факт','Вернул_Откл', 'Просрочил_Ожид', 'Просрочил_Факт', 'Просрочил_Откл']]\n",
    "data_edu_dif"
   ]
  },
  {
   "cell_type": "markdown",
   "metadata": {},
   "source": [
    "# 4. Семейное положение"
   ]
  },
  {
   "cell_type": "markdown",
   "metadata": {},
   "source": [
    "Проверьте, как связан семейный статус с индикатором дефолта: нужно предложить меру, по которой можно измерить возможную связь этих переменных и посчитать ее значение."
   ]
  },
  {
   "cell_type": "code",
   "execution_count": 34,
   "metadata": {},
   "outputs": [
    {
     "data": {
      "text/html": [
       "<div>\n",
       "<style scoped>\n",
       "    .dataframe tbody tr th:only-of-type {\n",
       "        vertical-align: middle;\n",
       "    }\n",
       "\n",
       "    .dataframe tbody tr th {\n",
       "        vertical-align: top;\n",
       "    }\n",
       "\n",
       "    .dataframe thead th {\n",
       "        text-align: right;\n",
       "    }\n",
       "</style>\n",
       "<table border=\"1\" class=\"dataframe\">\n",
       "  <thead>\n",
       "    <tr style=\"text-align: right;\">\n",
       "      <th></th>\n",
       "      <th>вернул</th>\n",
       "      <th>просрочил</th>\n",
       "    </tr>\n",
       "  </thead>\n",
       "  <tbody>\n",
       "    <tr>\n",
       "      <th>отказываюсь</th>\n",
       "      <td>49</td>\n",
       "      <td>5</td>\n",
       "    </tr>\n",
       "    <tr>\n",
       "      <th>брак</th>\n",
       "      <td>10453</td>\n",
       "      <td>3206</td>\n",
       "    </tr>\n",
       "    <tr>\n",
       "      <th>холост</th>\n",
       "      <td>12623</td>\n",
       "      <td>3341</td>\n",
       "    </tr>\n",
       "    <tr>\n",
       "      <th>неизвестно</th>\n",
       "      <td>239</td>\n",
       "      <td>84</td>\n",
       "    </tr>\n",
       "  </tbody>\n",
       "</table>\n",
       "</div>"
      ],
      "text/plain": [
       "             вернул  просрочил\n",
       "отказываюсь      49          5\n",
       "брак          10453       3206\n",
       "холост        12623       3341\n",
       "неизвестно      239         84"
      ]
     },
     "execution_count": 34,
     "metadata": {},
     "output_type": "execute_result"
    }
   ],
   "source": [
    "data_marriage = pd.crosstab(data.MARRIAGE, data.default)\n",
    "data_marriage.index = ['отказываюсь', 'брак', 'холост', 'неизвестно']\n",
    "data_marriage.columns = ['вернул', 'просрочил']\n",
    "data_marriage"
   ]
  },
  {
   "cell_type": "code",
   "execution_count": 35,
   "metadata": {},
   "outputs": [
    {
     "data": {
      "text/plain": [
       "<matplotlib.legend.Legend at 0x7f0a89a70668>"
      ]
     },
     "execution_count": 35,
     "metadata": {},
     "output_type": "execute_result"
    },
    {
     "data": {
      "image/png": "[encoded data removed]",
      "text/plain": [
       "<Figure size 432x288 with 1 Axes>"
      ]
     },
     "metadata": {},
     "output_type": "display_data"
    }
   ],
   "source": [
    "sns.countplot(x='MARRIAGE', hue='default', data=data);\n",
    "plt.xlabel('Семейное положение')\n",
    "plt.xticks(np.arange(len(data_marriage.index)), ('отказываюсь', 'брак', 'холост', 'неизвестно'))\n",
    "plt.ylabel('Количество кредитов, шт.')\n",
    "plt.title('Влияние семейного положения на просрочки по кредиту')\n",
    "plt.legend(['Заплатил вовремя', 'Просрочил'])"
   ]
  },
  {
   "cell_type": "markdown",
   "metadata": {},
   "source": [
    " $H_0\\colon$ Семейное положение не влияет на выплату кредита (выборки образования - независимы),\n",
    " \n",
    " $H_1\\colon$ Семейное положение влияет на выплату кредита (выборки зависимы)."
   ]
  },
  {
   "cell_type": "code",
   "execution_count": 36,
   "metadata": {},
   "outputs": [
    {
     "name": "stdout",
     "output_type": "stream",
     "text": [
      "Хи-квадрат равен:  35.66239583433609\n",
      "P-value:  8.825862457577375e-08\n",
      "Ожидаемые значения:  [[4.20552000e+01 1.19448000e+01]\n",
      " [1.06376292e+04 3.02137080e+03]\n",
      " [1.24327632e+04 3.53123680e+03]\n",
      " [2.51552400e+02 7.14476000e+01]]\n"
     ]
    }
   ],
   "source": [
    "chi2_marriage =stats.chi2_contingency(data_marriage)\n",
    "print('Хи-квадрат равен: ', chi2_marriage[0])\n",
    "print('P-value: ', chi2_marriage[1])\n",
    "print('Ожидаемые значения: ',  chi2_marriage[3])"
   ]
  },
  {
   "cell_type": "markdown",
   "metadata": {},
   "source": [
    "Значение p-value равно 8.82e-08, что позволяет отклонить Н0. Следовательно, семейное положение влияет на выплату кредита."
   ]
  },
  {
   "cell_type": "markdown",
   "metadata": {},
   "source": [
    "# 5. Возраст "
   ]
  },
  {
   "cell_type": "code",
   "execution_count": 37,
   "metadata": {},
   "outputs": [
    {
     "data": {
      "text/plain": [
       "Text(0.5,1,'Кредиты, в которых есть просрочки по возврату')"
      ]
     },
     "execution_count": 37,
     "metadata": {},
     "output_type": "execute_result"
    },
    {
     "data": {
      "image/png": "[encoded data removed]",
      "text/plain": [
       "<Figure size 1152x288 with 2 Axes>"
      ]
     },
     "metadata": {},
     "output_type": "display_data"
    }
   ],
   "source": [
    "pylab.figure(figsize(16, 4))\n",
    "pylab.subplot(1,2,1)\n",
    "good_clients.AGE.hist(bins = 60, range = (20, 80))\n",
    "pylab.xlabel('Возраст, лет')\n",
    "pylab.ylabel('Всего выдано кредитов, шт.')\n",
    "plt.title('Кредиты, в которых нет просрочек по возврату')\n",
    "\n",
    "pylab.subplot(1,2,2)\n",
    "bad_clients.AGE.hist(color='red', bins = 60, range = (20, 80))\n",
    "pylab.xlabel('Возраст, лет')\n",
    "pylab.ylabel('Всего выдано кредитов, шт.')\n",
    "plt.title('Кредиты, в которых есть просрочки по возврату')\n"
   ]
  },
  {
   "cell_type": "markdown",
   "metadata": {},
   "source": [
    "### a) Относительно двух групп людей вернувших и не вернувших кредит проверьте гипотезу о равенстве медианных значений возрастов людей. "
   ]
  },
  {
   "cell_type": "markdown",
   "metadata": {},
   "source": [
    " $H_0\\colon$ Семейное положение не влияет на выплату кредита (выборки образования - независимы),\n",
    " \n",
    " $H_1\\colon$ Семейное положение влияет на выплату кредита (выборки зависимы)."
   ]
  },
  {
   "cell_type": "code",
   "execution_count": 38,
   "metadata": {},
   "outputs": [],
   "source": [
    "good_clients_age_median =list(map(np.median, get_bootstrap_samples(good_clients.AGE.values, 1000)))\n",
    "bad_clients_age_median =list(map(np.median, get_bootstrap_samples(bad_clients.AGE.values, 1000)))"
   ]
  },
  {
   "cell_type": "code",
   "execution_count": 39,
   "metadata": {},
   "outputs": [],
   "source": [
    "diff_age_median = list(map(lambda x: x[0] - x[1], zip(good_clients_age_median, bad_clients_age_median)))"
   ]
  },
  {
   "cell_type": "code",
   "execution_count": 40,
   "metadata": {},
   "outputs": [
    {
     "name": "stdout",
     "output_type": "stream",
     "text": [
      "95% довер. интервал медианы возраста для хороших клиентов:  [34. 34.]\n",
      "95% довер. интервал медианы возраста лимита для плохих клиентов: [34. 35.]\n",
      "95% довер. интервал для разности медиан возраста для плохих и хороших клиентов: [-1.  0.]\n"
     ]
    }
   ],
   "source": [
    "print (\"95% довер. интервал медианы возраста для хороших клиентов: \",  stat_intervals(good_clients_age_median, 0.05))\n",
    "print (\"95% довер. интервал медианы возраста лимита для плохих клиентов:\",  stat_intervals(bad_clients_age_median, 0.05))\n",
    "print (\"95% довер. интервал для разности медиан возраста для плохих и хороших клиентов:\",  stat_intervals(diff_age_median, 0.05))"
   ]
  },
  {
   "cell_type": "markdown",
   "metadata": {},
   "source": [
    "Не можем отклонить Н0, т.к. доверительный интервал для разности содержит 0."
   ]
  },
  {
   "cell_type": "markdown",
   "metadata": {},
   "source": [
    "### b) Равны ли распределения в обоих группах?"
   ]
  },
  {
   "cell_type": "markdown",
   "metadata": {},
   "source": [
    "Для проверки воспользуемся критерием Манна-Уитни для независимых выборок.\n",
    "\n",
    " $H_0\\colon$ Распределения возрастов хороших и плохих клиентов равны.\n",
    " \n",
    " $H_1\\colon$ Не равны."
   ]
  },
  {
   "cell_type": "code",
   "execution_count": 41,
   "metadata": {},
   "outputs": [
    {
     "data": {
      "text/plain": [
       "MannwhitneyuResult(statistic=76966879.5, pvalue=0.1862517717449308)"
      ]
     },
     "execution_count": 41,
     "metadata": {},
     "output_type": "execute_result"
    }
   ],
   "source": [
    "stats.mannwhitneyu(good_clients.AGE.values, bad_clients.AGE.values)"
   ]
  },
  {
   "cell_type": "markdown",
   "metadata": {},
   "source": [
    "pvalue равно 0,18. Не можем отвергуть Н0 на уровне значимости 0,05\n",
    "Доверительный интервал содержит ноль и p-value > 0,05. Следовательно, мы можем отвергунть Н0. "
   ]
  },
  {
   "cell_type": "code",
   "execution_count": null,
   "metadata": {},
   "outputs": [],
   "source": []
  }
 ],
 "metadata": {
  "kernelspec": {
   "display_name": "Python 2",
   "language": "python",
   "name": "python2"
  },
  "language_info": {
   "codemirror_mode": {
    "name": "ipython",
    "version": 2
   },
   "file_extension": ".py",
   "mimetype": "text/x-python",
   "name": "python",
   "nbconvert_exporter": "python",
   "pygments_lexer": "ipython2",
   "version": "2.7.15"
  }
 },
 "nbformat": 4,
 "nbformat_minor": 2
}
