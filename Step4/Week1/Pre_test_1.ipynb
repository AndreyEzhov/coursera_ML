{
 "cells": [
  {
   "cell_type": "code",
   "execution_count": 25,
   "metadata": {},
   "outputs": [
    {
     "data": {
      "text/html": [
       "<div>\n",
       "<style scoped>\n",
       "    .dataframe tbody tr th:only-of-type {\n",
       "        vertical-align: middle;\n",
       "    }\n",
       "\n",
       "    .dataframe tbody tr th {\n",
       "        vertical-align: top;\n",
       "    }\n",
       "\n",
       "    .dataframe thead th {\n",
       "        text-align: right;\n",
       "    }\n",
       "</style>\n",
       "<table border=\"1\" class=\"dataframe\">\n",
       "  <thead>\n",
       "    <tr style=\"text-align: right;\">\n",
       "      <th></th>\n",
       "      <th>location</th>\n",
       "      <th>town</th>\n",
       "      <th>mortality</th>\n",
       "      <th>hardness</th>\n",
       "    </tr>\n",
       "  </thead>\n",
       "  <tbody>\n",
       "    <tr>\n",
       "      <th>0</th>\n",
       "      <td>South</td>\n",
       "      <td>Bath</td>\n",
       "      <td>1247</td>\n",
       "      <td>105</td>\n",
       "    </tr>\n",
       "    <tr>\n",
       "      <th>1</th>\n",
       "      <td>North</td>\n",
       "      <td>Birkenhead</td>\n",
       "      <td>1668</td>\n",
       "      <td>17</td>\n",
       "    </tr>\n",
       "    <tr>\n",
       "      <th>2</th>\n",
       "      <td>South</td>\n",
       "      <td>Birmingham</td>\n",
       "      <td>1466</td>\n",
       "      <td>5</td>\n",
       "    </tr>\n",
       "    <tr>\n",
       "      <th>3</th>\n",
       "      <td>North</td>\n",
       "      <td>Blackburn</td>\n",
       "      <td>1800</td>\n",
       "      <td>14</td>\n",
       "    </tr>\n",
       "    <tr>\n",
       "      <th>4</th>\n",
       "      <td>North</td>\n",
       "      <td>Blackpool</td>\n",
       "      <td>1609</td>\n",
       "      <td>18</td>\n",
       "    </tr>\n",
       "  </tbody>\n",
       "</table>\n",
       "</div>"
      ],
      "text/plain": [
       "  location        town  mortality  hardness\n",
       "0    South        Bath       1247       105\n",
       "1    North  Birkenhead       1668        17\n",
       "2    South  Birmingham       1466         5\n",
       "3    North   Blackburn       1800        14\n",
       "4    North   Blackpool       1609        18"
      ]
     },
     "execution_count": 25,
     "metadata": {},
     "output_type": "execute_result"
    }
   ],
   "source": [
    "import numpy as np\n",
    "from statsmodels.stats.weightstats import _zconfint_generic, _tconfint_generic\n",
    "import pandas as pd\n",
    "\n",
    "data = pd.read_csv('water.txt', sep=\"\\t\")\n",
    "data.head()"
   ]
  },
  {
   "cell_type": "code",
   "execution_count": 26,
   "metadata": {},
   "outputs": [],
   "source": [
    "def calculate(dataframe):\n",
    "    mean = np.mean(dataframe)\n",
    "    mean_std = dataframe.std(ddof=1)/np.sqrt(len(dataframe))\n",
    "    print _tconfint_generic(mean, mean_std,\n",
    "    len(dataframe) - 1,\n",
    "    0.05, 'two-sided')"
   ]
  },
  {
   "cell_type": "code",
   "execution_count": 27,
   "metadata": {},
   "outputs": [
    {
     "name": "stdout",
     "output_type": "stream",
     "text": [
      "(1476.0833413552848, 1572.2117406119285)\n",
      "(1320.1517462936238, 1433.463638321761)\n",
      "(53.467198692036106, 86.071262846425441)\n",
      "(21.422487285724259, 39.377512714275738)\n"
     ]
    }
   ],
   "source": [
    "calculate(data['mortality'])\n",
    "calculate(data[data['location'] == 'South']['mortality'])\n",
    "\n",
    "calculate(data[data['location'] == 'South']['hardness'])\n",
    "calculate(data[data['location'] == 'North']['hardness'])"
   ]
  },
  {
   "cell_type": "code",
   "execution_count": 28,
   "metadata": {},
   "outputs": [],
   "source": [
    "from statsmodels.stats.proportion import samplesize_confint_proportion\n",
    "from statsmodels.stats.proportion import proportion_confint"
   ]
  },
  {
   "cell_type": "code",
   "execution_count": 29,
   "metadata": {},
   "outputs": [
    {
     "name": "stdout",
     "output_type": "stream",
     "text": [
      "0.00353925927165\n"
     ]
    }
   ],
   "source": [
    "wilson_interval = proportion_confint(1, 50, method = 'wilson')\n",
    "print wilson_interval[0]"
   ]
  },
  {
   "cell_type": "code",
   "execution_count": 30,
   "metadata": {},
   "outputs": [
    {
     "name": "stdout",
     "output_type": "stream",
     "text": [
      "753\n"
     ]
    }
   ],
   "source": [
    "n_samples = int(np.ceil(samplesize_confint_proportion(0.02, 0.01)))\n",
    "print n_samples"
   ]
  },
  {
   "cell_type": "code",
   "execution_count": 44,
   "metadata": {},
   "outputs": [],
   "source": [
    "from statsmodels.compat.python import lzip, range\n",
    "import numpy as np\n",
    "from scipy import stats, optimize\n",
    "from sys import float_info\n",
    "\n",
    "from statsmodels.stats.base import AllPairsResults\n",
    "from statsmodels.tools.sm_exceptions import HypothesisTestWarning\n",
    "\n",
    "\n",
    "def proportion_confint_custom(count, nobs, alpha=0.05, method='normal'):\n",
    "    pd_index = getattr(count, 'index', None)\n",
    "    if pd_index is not None and hasattr(pd_index, '__call__'):\n",
    "        # this rules out lists, lists have an index method\n",
    "        pd_index = None\n",
    "    count = np.asarray(count)\n",
    "    nobs = np.asarray(nobs)\n",
    "\n",
    "    q_ = count * 1. / nobs\n",
    "    alpha_2 = 0.5 * alpha\n",
    "\n",
    "    if method == 'normal':\n",
    "        std_ = np.sqrt(q_ * (1 - q_) / nobs)\n",
    "        dist = stats.norm.isf(alpha / 2.) * std_\n",
    "        ci_low = q_ - dist\n",
    "        ci_upp = q_ + dist\n",
    "\n",
    "    elif method == 'binom_test':\n",
    "        # inverting the binomial test\n",
    "        def func(qi):\n",
    "            return stats.binom_test(q_ * nobs, nobs, p=qi) - alpha\n",
    "        if count == 0:\n",
    "            ci_low = 0\n",
    "        else:\n",
    "            ci_low = optimize.brentq(func, float_info.min, q_)\n",
    "        if count == nobs:\n",
    "            ci_upp = 1\n",
    "        else:\n",
    "            ci_upp = optimize.brentq(func, q_, 1. - float_info.epsilon)\n",
    "\n",
    "    elif method == 'beta':\n",
    "        ci_low = stats.beta.ppf(alpha_2, count, nobs - count + 1)\n",
    "        ci_upp = stats.beta.isf(alpha_2, count + 1, nobs - count)\n",
    "\n",
    "        if np.ndim(ci_low) > 0:\n",
    "            ci_low[q_ == 0] = 0\n",
    "            ci_upp[q_ == 1] = 1\n",
    "        else:\n",
    "            ci_low = ci_low if (q_ != 0) else 0\n",
    "            ci_upp = ci_upp if (q_ != 1) else 1\n",
    "\n",
    "    elif method == 'agresti_coull':\n",
    "        crit = stats.norm.isf(alpha / 2.)\n",
    "        nobs_c = nobs + crit**2\n",
    "        q_c = (count + crit**2 / 2.) / nobs_c\n",
    "        std_c = np.sqrt(q_c * (1. - q_c) / nobs_c)\n",
    "        dist = crit * std_c\n",
    "        ci_low = q_c - dist\n",
    "        ci_upp = q_c + dist\n",
    "\n",
    "    elif method == 'wilson':\n",
    "        crit = stats.norm.isf(alpha / 2.)\n",
    "        crit2 = crit**2\n",
    "        denom = 1 + crit2 / nobs\n",
    "        center = (q_ + crit2 / (2 * nobs)) / denom\n",
    "        dist = crit * np.sqrt(q_ * (1. - q_) / nobs + crit2 / (4. * nobs**2))\n",
    "        dist /= denom\n",
    "        ci_low = center - dist\n",
    "        ci_upp = center + dist\n",
    "\n",
    "    # method adjusted to be more forgiving of misspellings or incorrect option name\n",
    "    elif method[:4] == 'jeff':\n",
    "        ci_low, ci_upp = stats.beta.interval(1 - alpha, count + 0.5,\n",
    "                                             nobs - count + 0.5)\n",
    "\n",
    "    else:\n",
    "        raise NotImplementedError('method \"%s\" is not available' % method)\n",
    "\n",
    "    if pd_index is not None and np.ndim(ci_low) > 0:\n",
    "        import pandas as pd\n",
    "        if np.ndim(ci_low) == 1:\n",
    "            ci_low = pd.Series(ci_low, index=pd_index)\n",
    "            ci_upp = pd.Series(ci_upp, index=pd_index)\n",
    "        if np.ndim(ci_low) == 2:\n",
    "            ci_low = pd.DataFrame(ci_low, index=pd_index)\n",
    "            ci_upp = pd.DataFrame(ci_upp, index=pd_index)\n",
    "\n",
    "    return ci_low, ci_upp"
   ]
  },
  {
   "cell_type": "code",
   "execution_count": 45,
   "metadata": {},
   "outputs": [
    {
     "name": "stdout",
     "output_type": "stream",
     "text": [
      "-0.0188053070818\n"
     ]
    }
   ],
   "source": [
    "normal_interval = proportion_confint_custom(1, 50, method = 'normal')\n",
    "print normal_interval[0]"
   ]
  },
  {
   "cell_type": "code",
   "execution_count": 53,
   "metadata": {},
   "outputs": [
    {
     "data": {
      "text/plain": [
       "2.9677379253417944"
      ]
     },
     "execution_count": 53,
     "metadata": {},
     "output_type": "execute_result"
    }
   ],
   "source": [
    "from scipy.stats import norm\n",
    "rv = norm(0,1)\n",
    "rv.ppf(0.9985)"
   ]
  },
  {
   "cell_type": "code",
   "execution_count": 64,
   "metadata": {},
   "outputs": [],
   "source": [
    "import numpy as np\n",
    "import pandas as pd\n",
    "\n",
    "import scipy\n",
    "from statsmodels.stats.weightstats import *\n",
    "from statsmodels.stats.proportion import proportion_confint\n",
    "\n",
    "def proportions_confint_diff_ind(sum_sample1, sum_sample2, len_sample1, len_sample2, alpha = 0.05):    \n",
    "    z = scipy.stats.norm.ppf(1 - alpha / 2.)   \n",
    "    p1 = float(sum_sample1) / len_sample1\n",
    "    p2 = float(sum_sample2) / len_sample2\n",
    "    \n",
    "    left_boundary = (p1 - p2) - z * np.sqrt(p1 * (1 - p1)/ len_sample1 + p2 * (1 - p2)/ len_sample2)\n",
    "    right_boundary = (p1 - p2) + z * np.sqrt(p1 * (1 - p1)/ len_sample1 + p2 * (1 - p2)/ len_sample2)\n",
    "    \n",
    "    return (left_boundary, right_boundary)"
   ]
  },
  {
   "cell_type": "code",
   "execution_count": 65,
   "metadata": {},
   "outputs": [
    {
     "data": {
      "text/plain": [
       "(-0.010724297276960124, -0.0046877506750494392)"
      ]
     },
     "execution_count": 65,
     "metadata": {},
     "output_type": "execute_result"
    }
   ],
   "source": [
    "proportions_confint_diff_ind(104, 189, 11037, 11034, 0.05)"
   ]
  },
  {
   "cell_type": "code",
   "execution_count": 63,
   "metadata": {},
   "outputs": [
    {
     "name": "stdout",
     "output_type": "stream",
     "text": [
      "1.83205394191\n"
     ]
    }
   ],
   "source": [
    "p = 104.0/11037\n",
    "\n",
    "p_1 = 189.0/11034\n",
    "\n",
    "print  (p_1 / (1 - p_1)) / (p / (1 - p))"
   ]
  },
  {
   "cell_type": "code",
   "execution_count": 66,
   "metadata": {},
   "outputs": [
    {
     "name": "stdout",
     "output_type": "stream",
     "text": [
      "0.0112252781862\n"
     ]
    }
   ],
   "source": [
    "wilson_interval = proportion_confint(104, 11037)\n",
    "print wilson_interval[1]"
   ]
  },
  {
   "cell_type": "code",
   "execution_count": 69,
   "metadata": {},
   "outputs": [
    {
     "name": "stdout",
     "output_type": "stream",
     "text": [
      "1.81780179445\n"
     ]
    }
   ],
   "source": [
    "print p_1 / p"
   ]
  },
  {
   "cell_type": "code",
   "execution_count": 88,
   "metadata": {},
   "outputs": [],
   "source": [
    "np.random.seed(0)\n",
    "\n",
    "p_plac = np.append(np.repeat(1.0, 104), np.repeat(0.0, 11037-104))\n",
    "\n",
    "p_true = np.append(np.repeat(1.0, 189), np.repeat(0.0, 11034-189))\n",
    "\n",
    "def get_bootstrap_samples(data, n_samples):\n",
    "    indices = np.random.randint(0, len(data), (n_samples, len(data)))\n",
    "    samples = data[indices]\n",
    "    return samples\n",
    "\n",
    "plac_median_scores = map(np.median, get_bootstrap_samples(p_plac, 1000))\n",
    "true_median_scores = map(np.median, get_bootstrap_samples(p_true, 1000))\n",
    "\n",
    "def stat_intervals(stat, alpha):\n",
    "    boundaries = np.percentile(stat, [100 * alpha / 2., 100 * (1 - alpha / 2.)])\n",
    "    return boundaries"
   ]
  },
  {
   "cell_type": "code",
   "execution_count": 89,
   "metadata": {},
   "outputs": [
    {
     "name": "stdout",
     "output_type": "stream",
     "text": [
      "[ 0.  0.]\n",
      "[ 0.  0.]\n"
     ]
    }
   ],
   "source": [
    "print stat_intervals(plac_median_scores, 0.05)\n",
    "print stat_intervals(true_median_scores, 0.05)"
   ]
  },
  {
   "cell_type": "code",
   "execution_count": null,
   "metadata": {},
   "outputs": [],
   "source": []
  }
 ],
 "metadata": {
  "kernelspec": {
   "display_name": "Python 2",
   "language": "python",
   "name": "python2"
  },
  "language_info": {
   "codemirror_mode": {
    "name": "ipython",
    "version": 2
   },
   "file_extension": ".py",
   "mimetype": "text/x-python",
   "name": "python",
   "nbconvert_exporter": "python",
   "pygments_lexer": "ipython2",
   "version": "2.7.15"
  }
 },
 "nbformat": 4,
 "nbformat_minor": 2
}
